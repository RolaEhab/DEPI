{
 "cells": [
  {
   "cell_type": "markdown",
   "id": "cfc43f27-aab7-4eec-88c5-02ada7efbd98",
   "metadata": {},
   "source": [
    "Welcome  Print a simple random bank name\n",
    "Account Creation:\n",
    "Ask for the user’s name and initial balance.\n",
    "Main Menu (Loop):\n",
    "1: Check balance → show balance.\n",
    "2: Deposit → ask amount, add to balance.\n",
    "3: Withdraw → ask amount, subtract if enough balance, else warn.\n",
    "4: Exit → end program with a thank-you message.\n",
    "Details:\n",
    "Use functions for each operation.\n",
    "Show the user’s name and balance after actions.\n",
    "Handle invalid menu choices with an error message.\n",
    "Use float for balance."
   ]
  },
  {
   "cell_type": "code",
   "execution_count": 25,
   "id": "81a4dc39-9b36-41e1-ba41-1847df199efc",
   "metadata": {},
   "outputs": [],
   "source": [
    "def num_check(input_):\n",
    "    \"\"\"\n",
    "    Checks whether the input can be casted into float (not a string)\n",
    "    & that its not negative\n",
    "    \"\"\"\n",
    "    try:\n",
    "        num = float(input_)\n",
    "        if num < 0:\n",
    "            return None\n",
    "        return num\n",
    "    except ValueError:\n",
    "        return None\n",
    "        \n",
    "def check_balance(name, balance):\n",
    "    print(f\"Balance of {name} is {balance}\")\n",
    "    \n",
    "def deposit(name , curr_balance):\n",
    "    inp = input(\"What is the amount that you want to deposit : \")\n",
    "    amount = num_check(inp)\n",
    "    if amount is None:\n",
    "        print(\"Invalid amount!\")\n",
    "        return curr_balance\n",
    "    print(f\"Your deposit was sucssess!! The current balance of {name} is {curr_balance + amount}\")\n",
    "    return curr_balance + amount \n",
    "    \n",
    "def withdraw(name , curr_balance):\n",
    "    inp = input(\"What is the amount that you want to withdraw: \")\n",
    "    amount = num_check(inp)\n",
    "    if amount is None:\n",
    "        print(\"Invalid amount!\")\n",
    "        return curr_balance\n",
    "    if amount > curr_balance:\n",
    "        print(f\"The amount you want to withdraw is bigger than your current balance of {curr_balance}\")\n",
    "        return curr_balance\n",
    "    print(f\"Your withdrawal was successful!! The current balance of {name} is {curr_balance - amount}\")\n",
    "    return curr_balance - amount\n",
    "    "
   ]
  },
  {
   "cell_type": "code",
   "execution_count": 26,
   "id": "848b345e-227e-4ed2-a5bf-8baab78e576f",
   "metadata": {},
   "outputs": [
    {
     "name": "stdout",
     "output_type": "stream",
     "text": [
      "****************************************************************************************************\n"
     ]
    },
    {
     "name": "stdin",
     "output_type": "stream",
     "text": [
      "Welcome to NNA\n",
      "Would you like to \n",
      "1)Register\n",
      "2)Exit\n",
      " 1\n"
     ]
    },
    {
     "name": "stdout",
     "output_type": "stream",
     "text": [
      "****************************************************************************************************\n"
     ]
    },
    {
     "name": "stdin",
     "output_type": "stream",
     "text": [
      "Please Enter your name :  Rola\n",
      "Please Enter your initial balance :  1000\n"
     ]
    },
    {
     "name": "stdout",
     "output_type": "stream",
     "text": [
      "**************************************************\n"
     ]
    },
    {
     "name": "stdin",
     "output_type": "stream",
     "text": [
      "Main Menu : \n",
      "What would you like to \n",
      "1)Check Balance\n",
      "2)Deposit\n",
      "3)Withdraw\n",
      "4)Exit\n",
      " 1\n"
     ]
    },
    {
     "name": "stdout",
     "output_type": "stream",
     "text": [
      "Balance of Rola is 1000\n",
      "**************************************************\n"
     ]
    },
    {
     "name": "stdin",
     "output_type": "stream",
     "text": [
      "Main Menu : \n",
      "What would you like to \n",
      "1)Check Balance\n",
      "2)Deposit\n",
      "3)Withdraw\n",
      "4)Exit\n",
      " 2\n",
      "What is the amount that you want to deposit :  100\n"
     ]
    },
    {
     "name": "stdout",
     "output_type": "stream",
     "text": [
      "Your deposit was sucssess!! The current balance of Rola is 1100.0\n",
      "**************************************************\n"
     ]
    },
    {
     "name": "stdin",
     "output_type": "stream",
     "text": [
      "Main Menu : \n",
      "What would you like to \n",
      "1)Check Balance\n",
      "2)Deposit\n",
      "3)Withdraw\n",
      "4)Exit\n",
      " 3\n",
      "What is the amount that you want to withdraw:  200\n"
     ]
    },
    {
     "name": "stdout",
     "output_type": "stream",
     "text": [
      "Your withdrawal was successful!! The current balance of Rola is 900.0\n",
      "**************************************************\n"
     ]
    },
    {
     "name": "stdin",
     "output_type": "stream",
     "text": [
      "Main Menu : \n",
      "What would you like to \n",
      "1)Check Balance\n",
      "2)Deposit\n",
      "3)Withdraw\n",
      "4)Exit\n",
      " 3\n",
      "What is the amount that you want to withdraw:  10000\n"
     ]
    },
    {
     "name": "stdout",
     "output_type": "stream",
     "text": [
      "The amount you want to withdraw is bigger than your current balance of 900.0\n",
      "**************************************************\n"
     ]
    },
    {
     "name": "stdin",
     "output_type": "stream",
     "text": [
      "Main Menu : \n",
      "What would you like to \n",
      "1)Check Balance\n",
      "2)Deposit\n",
      "3)Withdraw\n",
      "4)Exit\n",
      " 4\n"
     ]
    },
    {
     "name": "stdout",
     "output_type": "stream",
     "text": [
      "Ok sad to see you go your current balance is 900.0, see you soon!\n",
      "****************************************************************************************************\n"
     ]
    },
    {
     "name": "stdin",
     "output_type": "stream",
     "text": [
      "Welcome to NNA\n",
      "Would you like to \n",
      "1)Register\n",
      "2)Exit\n",
      " 2\n"
     ]
    }
   ],
   "source": [
    "while True:\n",
    "    print(\"*\" * 100)\n",
    "    choice = input(\"Welcome to NNA\\nWould you like to \\n1)Register\\n2)Exit\\n\")\n",
    "    if choice == \"2\":\n",
    "        break\n",
    "    elif choice == \"1\":\n",
    "        print(\"*\" * 100)\n",
    "        name = input(\"Please Enter your name : \")\n",
    "        while True:\n",
    "            try:\n",
    "                init = int(input(\"Please Enter your initial balance : \"))\n",
    "                if init < 0:\n",
    "                    print(\"Balance cannot be negative. Please try again.\")\n",
    "                    continue\n",
    "                break\n",
    "            except ValueError:\n",
    "                print(\"Please enter a valid number for balance.\")\n",
    "                \n",
    "        while True:\n",
    "            print(\"*\" * 50)\n",
    "            action = input(\"Main Menu : \\nWhat would you like to \\n1)Check Balance\\n2)Deposit\\n3)Withdraw\\n4)Exit\\n\")\n",
    "            if action == \"1\":\n",
    "                check_balance(name, init)\n",
    "                \n",
    "            elif action == \"2\":\n",
    "                init = deposit(name, init)\n",
    "                \n",
    "            elif action == \"3\":\n",
    "                init = withdraw(name, init)\n",
    "                    \n",
    "            elif action == \"4\":\n",
    "                print(f\"Ok sad to see you go your current balance is {init}, see you soon!\")\n",
    "                break\n",
    "    else:\n",
    "        print(\"This transaction is invalid try again\")"
   ]
  },
  {
   "cell_type": "code",
   "execution_count": null,
   "id": "458e32fe-2842-45f8-8757-dd75ab4dda17",
   "metadata": {},
   "outputs": [],
   "source": []
  }
 ],
 "metadata": {
  "kernelspec": {
   "display_name": "Python 3 (ipykernel)",
   "language": "python",
   "name": "python3"
  },
  "language_info": {
   "codemirror_mode": {
    "name": "ipython",
    "version": 3
   },
   "file_extension": ".py",
   "mimetype": "text/x-python",
   "name": "python",
   "nbconvert_exporter": "python",
   "pygments_lexer": "ipython3",
   "version": "3.11.7"
  }
 },
 "nbformat": 4,
 "nbformat_minor": 5
}
